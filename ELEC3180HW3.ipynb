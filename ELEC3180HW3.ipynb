{
  "nbformat": 4,
  "nbformat_minor": 0,
  "metadata": {
    "colab": {
      "provenance": [],
      "toc_visible": true
    },
    "kernelspec": {
      "name": "python3",
      "display_name": "Python 3"
    },
    "language_info": {
      "name": "python"
    }
  },
  "cells": [
    {
      "cell_type": "markdown",
      "source": [
        "Problem1 (a)\n",
        "\n",
        "A = [ [4, -2];\n",
        "     [-2, 6  ] ]\n",
        "\n",
        "B = [ 6, 12 ]"
      ],
      "metadata": {
        "id": "hzguXUr8L9vb"
      }
    },
    {
      "cell_type": "code",
      "execution_count": 12,
      "metadata": {
        "colab": {
          "base_uri": "https://localhost:8080/"
        },
        "id": "fQq3VkulLwjd",
        "outputId": "9644b9c6-06b8-453d-e3a5-5e528a098edc"
      },
      "outputs": [
        {
          "output_type": "stream",
          "name": "stdout",
          "text": [
            "This is Problem1 b\n",
            "done! x = [3. 3.], time cost = 0.0012s\n"
          ]
        }
      ],
      "source": [
        "print( \"This is Problem1 b\" )\n",
        "\n",
        "\n",
        "tk = 0.1\n",
        "import numpy as np\n",
        "import time\n",
        " \n",
        "#calculate gradient\n",
        "def cal_gradient(A, b, x):\n",
        "    left = (0.5)*( np.dot((A.T + A), x) )\n",
        "    right = b\n",
        "    gradient = left - right\n",
        "    return gradient\n",
        " \n",
        "# iteration\n",
        "def gradient_decent(x, A, b, learning_rate, step):\n",
        "    start = time.time()\n",
        "    for i in range(step):\n",
        "        gradient = cal_gradient(A, b, x)\n",
        "        delta = learning_rate * gradient\n",
        "        x = x - delta\n",
        "    end = time.time()\n",
        "    time_cost = round(end - start, 4)\n",
        "    print('done! x = {a}, time cost = {b}s'.format(a=x, b=time_cost))\n",
        "\n",
        "A = np.array([[4.0, -2.0], [ -2.0, 6.0 ]])\n",
        "b = np.array([6.0, 12.0])\n",
        " \n",
        "x0 = np.array([0.0, 0.0])\n",
        "learning_rate = tk\n",
        "step = 100\n",
        " \n",
        "gradient_decent(x0, A, b, learning_rate, step)"
      ]
    },
    {
      "cell_type": "code",
      "source": [
        "print( \"This is Problem1 c\" )\n",
        "\n",
        "import numpy as np\n",
        "tk = 0.01\n",
        "import time\n",
        "\n",
        "def cal_gradient(A, b, x):\n",
        "    left = (0.5)*( np.dot((A.T + A), x) )\n",
        "    right = b\n",
        "    gradient = left - right\n",
        "    return gradient\n",
        "\n",
        "\n",
        "def newton(x, A, b, learning_rate, step):\n",
        "    start = time.time()\n",
        "    for i in range(step):\n",
        "        gradient = cal_gradient(A, b, x)\n",
        "        gradient1 = 2\n",
        "        delta = learning_rate*gradient/gradient1\n",
        "        x = x - delta\n",
        "    end = time.time()\n",
        "    time_cost = round(end - start, 4)\n",
        "    print('done! x = {a}, time cost = {b}s'.format(a=x, b=time_cost))\n",
        "\n",
        "A = np.array([[4.0, -2.0], [ -2.0, 6.0 ]])\n",
        "b = np.array([6.0, 12.0])\n",
        " \n",
        "x0 = np.array([0.0, 0.0])\n",
        "learning_rate = tk\n",
        "step = 1000\n",
        " \n",
        "newton(x0, A, b, learning_rate, step)"
      ],
      "metadata": {
        "colab": {
          "base_uri": "https://localhost:8080/"
        },
        "id": "TWCLpNJdZG-Z",
        "outputId": "d7207248-f93c-4333-af00-d3e3bccadcd5"
      },
      "execution_count": 24,
      "outputs": [
        {
          "output_type": "stream",
          "name": "stdout",
          "text": [
            "This is Problem1 c\n",
            "done! x = [2.99999682 2.99999804], time cost = 0.0163s\n"
          ]
        }
      ]
    },
    {
      "cell_type": "code",
      "source": [
        "print( \"This is Problem1 d\" )\n",
        "\n",
        "def conjugate_grad(x, A, b, p0, epsilon):\n",
        "  for i in range(0,100):\n",
        "    r0 = p0\n",
        "    tk = np.dot(r0,r0)/np.dot( p0, np.dot(p0,A) )\n",
        "  \n",
        "    x += tk*p0\n",
        "    rk = r0 - tk*( np.dot( A, p0 ) )\n",
        "    if ( rk.all() <= epsilon ):\n",
        "      break\n",
        "    gamak = np.dot(rk,rk)/np.dot(r0,r0)\n",
        "    p0 = rk + gamak*p0\n",
        "\n",
        "  return x\n",
        "\n",
        "\n",
        "A = np.array([[4.0, -2.0], [ -2.0, 6.0 ]])\n",
        "b = np.array([6.0, 12.0])\n",
        " \n",
        "x0 = np.array([0.0, 0.0])\n",
        "p0 = b - np.dot(A,x0)\n",
        "\n",
        "epsilon = 0.001\n",
        "approx = conjugate_grad( x0, A, b, p0, epsilon )\n",
        "print( approx )"
      ],
      "metadata": {
        "colab": {
          "base_uri": "https://localhost:8080/"
        },
        "id": "tAz3fXY-fB03",
        "outputId": "bf450911-8b2a-4043-c972-dd6e778f0e01"
      },
      "execution_count": 44,
      "outputs": [
        {
          "output_type": "stream",
          "name": "stdout",
          "text": [
            "This is Problem1 d\n",
            "[3.375 3.   ]\n"
          ]
        }
      ]
    },
    {
      "cell_type": "code",
      "source": [
        "print( \"This is Problem2 a\" )\n",
        "\n",
        "import numpy as np\n",
        "from scipy.linalg import solve\n",
        "def jacobi ( A, b, x, n ):\n",
        "  D = np.diag(A)\n",
        "  R = A-np.diagflat(D)\n",
        "  for i in range(n):\n",
        "    x = ( b-np.dot(R,x) )/D\n",
        "  return x\n",
        "\n",
        "\n",
        "sigma = [ [1.0, 0.02, -0.04],[0.02, 1.0, 0.02],[-0.04, 0.02, 1.0] ]\n",
        "b = [ 1/3, 1/3, 1/3 ]\n",
        "n = 100\n",
        "x = [1.0,1.0,1.0]\n",
        "\n",
        "x = jacobi(sigma,b,x,n)\n",
        "print( solve(sigma,b) )"
      ],
      "metadata": {
        "colab": {
          "base_uri": "https://localhost:8080/"
        },
        "id": "yQBoyxHH-nKD",
        "outputId": "19d93f42-c1d6-416e-e665-02db0d445f09"
      },
      "execution_count": 26,
      "outputs": [
        {
          "output_type": "stream",
          "name": "stdout",
          "text": [
            "This is Problem2 a\n",
            "[0.34056158 0.31971087 0.34056158]\n"
          ]
        }
      ]
    }
  ]
}