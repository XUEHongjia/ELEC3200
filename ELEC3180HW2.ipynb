{
  "nbformat": 4,
  "nbformat_minor": 0,
  "metadata": {
    "colab": {
      "provenance": [],
      "toc_visible": true
    },
    "kernelspec": {
      "name": "python3",
      "display_name": "Python 3"
    },
    "language_info": {
      "name": "python"
    }
  },
  "cells": [
    {
      "cell_type": "code",
      "source": [
        "!pip install yfinance"
      ],
      "metadata": {
        "id": "-PH2BQtcuPxo",
        "colab": {
          "base_uri": "https://localhost:8080/",
          "height": 1000
        },
        "outputId": "7bff7e70-4dfa-4305-bde1-79bc3b4ad67c"
      },
      "execution_count": null,
      "outputs": [
        {
          "output_type": "stream",
          "name": "stdout",
          "text": [
            "Looking in indexes: https://pypi.org/simple, https://us-python.pkg.dev/colab-wheels/public/simple/\n",
            "Collecting yfinance\n",
            "  Downloading yfinance-0.2.12-py2.py3-none-any.whl (59 kB)\n",
            "\u001b[2K     \u001b[90m━━━━━━━━━━━━━━━━━━━━━━━━━━━━━━━━━━━━━━━━\u001b[0m \u001b[32m59.2/59.2 KB\u001b[0m \u001b[31m1.2 MB/s\u001b[0m eta \u001b[36m0:00:00\u001b[0m\n",
            "\u001b[?25hCollecting html5lib>=1.1\n",
            "  Downloading html5lib-1.1-py2.py3-none-any.whl (112 kB)\n",
            "\u001b[2K     \u001b[90m━━━━━━━━━━━━━━━━━━━━━━━━━━━━━━━━━━━━━━━\u001b[0m \u001b[32m112.2/112.2 KB\u001b[0m \u001b[31m3.8 MB/s\u001b[0m eta \u001b[36m0:00:00\u001b[0m\n",
            "\u001b[?25hCollecting beautifulsoup4>=4.11.1\n",
            "  Downloading beautifulsoup4-4.11.2-py3-none-any.whl (129 kB)\n",
            "\u001b[2K     \u001b[90m━━━━━━━━━━━━━━━━━━━━━━━━━━━━━━━━━━━━━━━\u001b[0m \u001b[32m129.4/129.4 KB\u001b[0m \u001b[31m5.0 MB/s\u001b[0m eta \u001b[36m0:00:00\u001b[0m\n",
            "\u001b[?25hCollecting cryptography>=3.3.2\n",
            "  Downloading cryptography-39.0.2-cp36-abi3-manylinux_2_28_x86_64.whl (4.2 MB)\n",
            "\u001b[2K     \u001b[90m━━━━━━━━━━━━━━━━━━━━━━━━━━━━━━━━━━━━━━━━\u001b[0m \u001b[32m4.2/4.2 MB\u001b[0m \u001b[31m17.5 MB/s\u001b[0m eta \u001b[36m0:00:00\u001b[0m\n",
            "\u001b[?25hRequirement already satisfied: multitasking>=0.0.7 in /usr/local/lib/python3.8/dist-packages (from yfinance) (0.0.11)\n",
            "Collecting frozendict>=2.3.4\n",
            "  Downloading frozendict-2.3.5-cp38-cp38-manylinux_2_17_x86_64.manylinux2014_x86_64.whl (111 kB)\n",
            "\u001b[2K     \u001b[90m━━━━━━━━━━━━━━━━━━━━━━━━━━━━━━━━━━━━━━━\u001b[0m \u001b[32m111.2/111.2 KB\u001b[0m \u001b[31m3.3 MB/s\u001b[0m eta \u001b[36m0:00:00\u001b[0m\n",
            "\u001b[?25hRequirement already satisfied: appdirs>=1.4.4 in /usr/local/lib/python3.8/dist-packages (from yfinance) (1.4.4)\n",
            "Requirement already satisfied: numpy>=1.16.5 in /usr/local/lib/python3.8/dist-packages (from yfinance) (1.22.4)\n",
            "Requirement already satisfied: lxml>=4.9.1 in /usr/local/lib/python3.8/dist-packages (from yfinance) (4.9.2)\n",
            "Requirement already satisfied: pytz>=2022.5 in /usr/local/lib/python3.8/dist-packages (from yfinance) (2022.7.1)\n",
            "Collecting requests>=2.26\n",
            "  Downloading requests-2.28.2-py3-none-any.whl (62 kB)\n",
            "\u001b[2K     \u001b[90m━━━━━━━━━━━━━━━━━━━━━━━━━━━━━━━━━━━━━━━━\u001b[0m \u001b[32m62.8/62.8 KB\u001b[0m \u001b[31m2.2 MB/s\u001b[0m eta \u001b[36m0:00:00\u001b[0m\n",
            "\u001b[?25hRequirement already satisfied: pandas>=1.3.0 in /usr/local/lib/python3.8/dist-packages (from yfinance) (1.3.5)\n",
            "Collecting soupsieve>1.2\n",
            "  Downloading soupsieve-2.4-py3-none-any.whl (37 kB)\n",
            "Requirement already satisfied: cffi>=1.12 in /usr/local/lib/python3.8/dist-packages (from cryptography>=3.3.2->yfinance) (1.15.1)\n",
            "Requirement already satisfied: webencodings in /usr/local/lib/python3.8/dist-packages (from html5lib>=1.1->yfinance) (0.5.1)\n",
            "Requirement already satisfied: six>=1.9 in /usr/local/lib/python3.8/dist-packages (from html5lib>=1.1->yfinance) (1.15.0)\n",
            "Requirement already satisfied: python-dateutil>=2.7.3 in /usr/local/lib/python3.8/dist-packages (from pandas>=1.3.0->yfinance) (2.8.2)\n",
            "Requirement already satisfied: urllib3<1.27,>=1.21.1 in /usr/local/lib/python3.8/dist-packages (from requests>=2.26->yfinance) (1.26.14)\n",
            "Requirement already satisfied: charset-normalizer<4,>=2 in /usr/local/lib/python3.8/dist-packages (from requests>=2.26->yfinance) (3.0.1)\n",
            "Requirement already satisfied: idna<4,>=2.5 in /usr/local/lib/python3.8/dist-packages (from requests>=2.26->yfinance) (2.10)\n",
            "Requirement already satisfied: certifi>=2017.4.17 in /usr/local/lib/python3.8/dist-packages (from requests>=2.26->yfinance) (2022.12.7)\n",
            "Requirement already satisfied: pycparser in /usr/local/lib/python3.8/dist-packages (from cffi>=1.12->cryptography>=3.3.2->yfinance) (2.21)\n",
            "Installing collected packages: soupsieve, requests, html5lib, frozendict, cryptography, beautifulsoup4, yfinance\n",
            "  Attempting uninstall: requests\n",
            "    Found existing installation: requests 2.25.1\n",
            "    Uninstalling requests-2.25.1:\n",
            "      Successfully uninstalled requests-2.25.1\n",
            "  Attempting uninstall: html5lib\n",
            "    Found existing installation: html5lib 1.0.1\n",
            "    Uninstalling html5lib-1.0.1:\n",
            "      Successfully uninstalled html5lib-1.0.1\n",
            "  Attempting uninstall: beautifulsoup4\n",
            "    Found existing installation: beautifulsoup4 4.6.3\n",
            "    Uninstalling beautifulsoup4-4.6.3:\n",
            "      Successfully uninstalled beautifulsoup4-4.6.3\n",
            "Successfully installed beautifulsoup4-4.11.2 cryptography-39.0.2 frozendict-2.3.5 html5lib-1.1 requests-2.28.2 soupsieve-2.4 yfinance-0.2.12\n"
          ]
        },
        {
          "output_type": "display_data",
          "data": {
            "application/vnd.colab-display-data+json": {
              "pip_warning": {
                "packages": [
                  "requests"
                ]
              }
            }
          },
          "metadata": {}
        }
      ]
    },
    {
      "cell_type": "code",
      "execution_count": null,
      "metadata": {
        "colab": {
          "base_uri": "https://localhost:8080/"
        },
        "id": "QqSe6yp4hbTw",
        "outputId": "96a44b63-91c4-4405-fecc-c8a12d09a215"
      },
      "outputs": [
        {
          "output_type": "stream",
          "name": "stdout",
          "text": [
            "[*********************100%***********************]  10 of 10 completed\n",
            "[*********************100%***********************]  2 of 2 completed\n",
            "            Adj Close                                                          \\\n",
            "                 AAPL       AMZN       EBAY      GOOGL        IBM        META   \n",
            "Date                                                                            \n",
            "2019-01-02  38.047050  76.956497  27.197369  52.734001  89.489326  135.679993   \n",
            "2019-01-03  34.257286  75.014000  26.697729  51.273499  87.702782  131.740005   \n",
            "2019-01-04  35.719692  78.769501  27.310490  53.903500  91.128258  137.949997   \n",
            "2019-01-07  35.640190  81.475502  27.781849  53.796001  91.772957  138.050003   \n",
            "2019-01-08  36.319611  82.829002  28.281490  54.268501  93.077896  142.529999   \n",
            "\n",
            "                                                         \n",
            "                 MSFT        NFLX       NVDA       TSLA  \n",
            "Date                                                     \n",
            "2019-01-02  96.632660  267.660004  33.805473  20.674667  \n",
            "2019-01-03  93.077744  271.200012  31.763041  20.024000  \n",
            "2019-01-04  97.406700  297.570007  33.798023  21.179333  \n",
            "2019-01-07  97.530930  315.339996  35.587315  22.330667  \n",
            "2019-01-08  98.238098  320.269989  34.701359  22.356667  \n"
          ]
        }
      ],
      "source": [
        "\n",
        "from pandas_datareader import data as pdr\n",
        "import yfinance as yf\n",
        "\n",
        "yf.pdr_override()\n",
        "\n",
        "stocks = ['TSLA', 'AMZN', 'EBAY', 'AAPL', 'MSFT', 'META', 'GOOGL',\n",
        "          'NFLX', 'IBM', 'NVDA']\n",
        "          \n",
        "indices = ['^GSPC', 'BTC-USD']\n",
        "\n",
        "prices = pdr.get_data_yahoo(stocks, start=\"2019-01-01\", end=\"2022-12-31\")[['Adj Close']]\n",
        "factor = pdr.get_data_yahoo(indices, start=\"2019-01-01\", end=\"2022-12-31\")[['Adj Close']]\n",
        "print( prices.head() )"
      ]
    },
    {
      "cell_type": "markdown",
      "source": [
        "Q1 (a) alpha is the active return of an investment, beta is the responsiveness to the market return, ft is the excess return on the market, epsilon_t is the residual (random) returns"
      ],
      "metadata": {
        "id": "fBhjY3SW233Y"
      }
    },
    {
      "cell_type": "code",
      "source": [
        "print(\"This is Q1 (b)\")\n",
        "import cvxpy as cp\n",
        "import numpy as np\n",
        "import pandas as pd\n",
        "factor = factor.dropna() # since we need to use log return, it will be meaningless if we fill nan with 0\n",
        "print( factor.index )\n",
        "print( prices.index )\n",
        "X = prices[['Adj Close']].apply(np.log).apply(np.diff).xs('Adj Close',axis=1)  \n",
        "X = np.array(X)\n",
        "T, N = X.shape  # number of days, number of stocks\n",
        "f = factor[['Adj Close']].apply(np.log).apply(np.diff).xs('Adj Close', axis=1)\n",
        "f = np.array(f)\n",
        "alpha = cp.Variable( N )\n",
        "beta0 = cp.Variable( N )\n",
        "beta1 = cp.Variable( N )\n",
        "sum = cp.sum_squares(( X[0,:] - alpha - beta0*f[0,0] - beta1*f[0,1] ))\n",
        "for i in range(1,N):\n",
        "  sum += cp.sum_squares(( X[i,:] - alpha - beta0*f[i,0] - beta1*f[i,1] ))\n",
        "objective = cp.Minimize( sum )\n",
        "# create problem\n",
        "prob = cp.Problem(objective)\n",
        "# solve it!\n",
        "result = prob.solve()\n",
        "\n",
        "beta = np.array(beta0.value)\n",
        "a = np.array(beta1.value)\n",
        "beta = np.vstack( ( np.array(beta0.value), np.array(beta1.value) ) )\n",
        "beta = pd.DataFrame( beta )\n",
        "print( \"beta \",beta )\n",
        "print( \"alpha: \",alpha.value )"
      ],
      "metadata": {
        "colab": {
          "base_uri": "https://localhost:8080/"
        },
        "id": "z_9WyQEajI_k",
        "outputId": "2e1d73fd-6b3d-4e69-86f2-df28518aaada"
      },
      "execution_count": null,
      "outputs": [
        {
          "output_type": "stream",
          "name": "stdout",
          "text": [
            "This is Q1 (b)\n",
            "DatetimeIndex(['2019-01-02', '2019-01-03', '2019-01-04', '2019-01-07',\n",
            "               '2019-01-08', '2019-01-09', '2019-01-10', '2019-01-11',\n",
            "               '2019-01-14', '2019-01-15',\n",
            "               ...\n",
            "               '2022-12-16', '2022-12-19', '2022-12-20', '2022-12-21',\n",
            "               '2022-12-22', '2022-12-23', '2022-12-27', '2022-12-28',\n",
            "               '2022-12-29', '2022-12-30'],\n",
            "              dtype='datetime64[ns]', name='Date', length=1008, freq=None)\n",
            "DatetimeIndex(['2019-01-02', '2019-01-03', '2019-01-04', '2019-01-07',\n",
            "               '2019-01-08', '2019-01-09', '2019-01-10', '2019-01-11',\n",
            "               '2019-01-14', '2019-01-15',\n",
            "               ...\n",
            "               '2022-12-16', '2022-12-19', '2022-12-20', '2022-12-21',\n",
            "               '2022-12-22', '2022-12-23', '2022-12-27', '2022-12-28',\n",
            "               '2022-12-29', '2022-12-30'],\n",
            "              dtype='datetime64[ns]', name='Date', length=1008, freq=None)\n",
            "beta            0        1         2         3         4         5         6  \\\n",
            "0  0.009249  0.12032 -0.020752 -0.046903 -0.047486  0.017662  0.039346   \n",
            "1  2.438166  1.38887  0.826325  1.438310  1.058194  1.285953  1.420254   \n",
            "\n",
            "          7         8         9  \n",
            "0  0.063123  0.169124  0.031212  \n",
            "1  1.539825  1.722730  1.687168  \n",
            "alpha:  [-0.01192641  0.00414767  0.00129299 -0.00306032  0.00067398  0.0031916\n",
            " -0.00145312  0.021324    0.00301412  0.00421625]\n"
          ]
        }
      ]
    },
    {
      "cell_type": "code",
      "source": [
        "print(\"This is Q1 (c)\")\n",
        "X = prices[['Adj Close']].apply(np.log).apply(np.diff).xs('Adj Close',axis=1) \n",
        "print(\"X: \", X)\n",
        "f = factor[['Adj Close']].apply(np.log).apply(np.diff).xs('Adj Close', axis=1)\n",
        "F = np.ones( len(X) )\n",
        "F = pd.DataFrame(F)\n",
        "F = pd.concat([F,f], axis = 1)\n",
        "print(\"F: \",F)"
      ],
      "metadata": {
        "id": "RtrkYRV3XQmE",
        "colab": {
          "base_uri": "https://localhost:8080/"
        },
        "outputId": "de20c7c6-3135-4a94-fe74-c3efd1559183"
      },
      "execution_count": null,
      "outputs": [
        {
          "output_type": "stream",
          "name": "stdout",
          "text": [
            "This is Q1 (c)\n",
            "X:            AAPL      AMZN      EBAY     GOOGL       IBM      META      MSFT  \\\n",
            "0    -0.104925 -0.025566 -0.018542 -0.028086 -0.020166 -0.029469 -0.037482   \n",
            "1     0.041803  0.048851  0.022693  0.050021  0.038314  0.046061  0.045460   \n",
            "2    -0.002228  0.033777  0.017112 -0.001996  0.007050  0.000725  0.001275   \n",
            "3     0.018884  0.016476  0.017825  0.008745  0.014119  0.031937  0.007225   \n",
            "4     0.016839  0.001713  0.009620 -0.003433  0.007151  0.011857  0.014198   \n",
            "...        ...       ...       ...       ...       ...       ...       ...   \n",
            "1002 -0.002802  0.017274  0.001245  0.016612  0.005451  0.007824  0.002265   \n",
            "1003 -0.013976 -0.026266 -0.002243 -0.020836  0.005421 -0.009876 -0.007442   \n",
            "1004 -0.031166 -0.014801 -0.004000 -0.015801 -0.016995 -0.010839 -0.010308   \n",
            "1005  0.027931  0.028436  0.046497  0.027858  0.007400  0.039347  0.027255   \n",
            "1006  0.002466 -0.002141 -0.008404 -0.002490 -0.001206  0.000665 -0.004950   \n",
            "\n",
            "          NFLX      NVDA      TSLA  \n",
            "0     0.013139 -0.062319 -0.031978  \n",
            "1     0.092793  0.062099  0.056094  \n",
            "2     0.058002  0.051587  0.052935  \n",
            "3     0.015513 -0.025210  0.001164  \n",
            "4    -0.000968  0.019476  0.009438  \n",
            "...        ...       ...       ...  \n",
            "1002 -0.009414 -0.008709 -0.017707  \n",
            "1003 -0.037267 -0.074027 -0.121138  \n",
            "1004 -0.025988 -0.006038  0.032553  \n",
            "1005  0.050151  0.039602  0.077726  \n",
            "1006  0.012833  0.000753  0.011102  \n",
            "\n",
            "[1007 rows x 10 columns]\n",
            "F:          0   BTC-USD     ^GSPC\n",
            "0     1.0 -0.027422 -0.025068\n",
            "1     1.0  0.005452  0.033759\n",
            "2     1.0  0.042511  0.006986\n",
            "3     1.0  0.001390  0.009649\n",
            "4     1.0  0.001103  0.004090\n",
            "...   ...       ...       ...\n",
            "1002  1.0 -0.001986  0.005851\n",
            "1003  1.0 -0.004761 -0.004058\n",
            "1004  1.0 -0.009895 -0.012093\n",
            "1005  1.0  0.005409  0.017311\n",
            "1006  1.0 -0.002392 -0.002544\n",
            "\n",
            "[1007 rows x 3 columns]\n"
          ]
        }
      ]
    },
    {
      "cell_type": "code",
      "source": [
        "print(\"This is Q1 (d)\")\n",
        "factor = factor.dropna() # since we need to use log return, it will be meaningless if we fill nan with 0\n",
        "X = prices[['Adj Close']].apply(np.log).apply(np.diff).xs('Adj Close',axis=1)  \n",
        "T, N = X.shape  # number of days, number of stocks\n",
        "f = factor[['Adj Close']].apply(np.log).apply(np.diff).xs('Adj Close', axis=1)\n",
        "f1 = f[ '^GSPC' ]\n",
        "f0 = f[ 'BTC-USD' ]\n",
        "beta_vec0 = np.array([np.cov(X[stock], y=f0.T)[0, 1]/np.cov(f0, f0)[0, 0] for stock in X.columns]).reshape((N, 1))\n",
        "beta0 = pd.DataFrame(beta_vec0.reshape((1, N)), columns = stocks)\n",
        "beta_vec1 = np.array([np.cov(X[stock], y=f1.T)[0, 1]/np.cov(f1, f1)[0, 0] for stock in X.columns]).reshape((N, 1))\n",
        "beta1 = pd.DataFrame(beta_vec1.reshape((1, N)), columns = stocks)\n",
        "beta = beta0\n",
        "beta = beta.append( beta1 )\n",
        "print( \"beta: \", beta )\n",
        "meanf = np.array(f.mean())\n",
        "alpha = X.mean() - beta0*meanf[0] - beta1*meanf[1]\n",
        "print( \"alpha: \",alpha )"
      ],
      "metadata": {
        "colab": {
          "base_uri": "https://localhost:8080/"
        },
        "id": "fMVpTP87Y01Y",
        "outputId": "c1943c47-8c2b-477e-b138-2aae90a19f03"
      },
      "execution_count": null,
      "outputs": [
        {
          "output_type": "stream",
          "name": "stdout",
          "text": [
            "This is Q1 (d)\n",
            "beta:         TSLA      AMZN     EBAY      AAPL      MSFT      META     GOOGL  \\\n",
            "0  0.126170  0.137616  0.08003  0.123473  0.064959  0.151887  0.133899   \n",
            "0  1.221163  1.025775  0.82046  1.113074  0.830199  1.253835  1.179592   \n",
            "\n",
            "       NFLX       IBM      NVDA  \n",
            "0  0.149672  0.222223  0.252197  \n",
            "0  1.023241  1.701688  1.462289  \n",
            "alpha:         AAPL      AMZN      EBAY     GOOGL       IBM      META      MSFT  \\\n",
            "0  0.000572 -0.000542 -0.000042 -0.000178 -0.000597 -0.000865  0.000457   \n",
            "\n",
            "       NFLX      NVDA      TSLA  \n",
            "0 -0.000549  0.000477  0.001077  \n"
          ]
        }
      ]
    },
    {
      "cell_type": "code",
      "source": [
        "print( \"This is Q1 (e)\" )\n",
        "import matplotlib.pyplot as plt\n",
        "fig = plt.figure()\n",
        "ax = fig.add_subplot(projection='3d')\n",
        "\n",
        "ax.scatter(beta0, beta1, alpha)\n",
        "ax.set_xlabel('beta1')\n",
        "ax.set_ylabel('beta2')\n",
        "ax.set_zlabel('alpha')\n",
        "beta0_array = np.array(beta0)\n",
        "print( beta0_array )\n",
        "beta1_array = np.array(beta1)\n",
        "alpha_array = np.array(alpha)\n",
        "print( alpha.columns[1] )\n",
        "for i in range(0,N):\n",
        "  ax.text( beta0_array[0,i], beta1_array[0,i], alpha_array[0,i], alpha.columns[i] )"
      ],
      "metadata": {
        "colab": {
          "base_uri": "https://localhost:8080/",
          "height": 332
        },
        "id": "sJLEhSFkZsYk",
        "outputId": "24b0c46f-52f2-4345-bce0-9595b13dd25d"
      },
      "execution_count": null,
      "outputs": [
        {
          "output_type": "stream",
          "name": "stdout",
          "text": [
            "This is Q1 (e)\n",
            "[[0.1261701  0.13761567 0.08002975 0.12347265 0.06495923 0.1518869\n",
            "  0.13389878 0.14967153 0.22222254 0.25219718]]\n",
            "AMZN\n"
          ]
        },
        {
          "output_type": "display_data",
          "data": {
            "text/plain": [
              "<Figure size 432x288 with 1 Axes>"
            ],
            "image/png": "[encoded data removed]"
          },
          "metadata": {
            "needs_background": "light"
          }
        }
      ]
    },
    {
      "cell_type": "markdown",
      "source": [
        "Q1 (f)\n",
        "AAPL is less risky"
      ],
      "metadata": {
        "id": "mMi9taO6eDfr"
      }
    },
    {
      "cell_type": "markdown",
      "source": [
        "// Question 2"
      ],
      "metadata": {
        "id": "6TaaFb-jsJB4"
      }
    },
    {
      "cell_type": "code",
      "source": [
        "import math\n",
        "print( \"This is Q2, (a)\" )\n",
        "stocks_q2 = ['AAPL', 'MSFT', 'GOOGL']\n",
        "training = pdr.get_data_yahoo(stocks_q2, start=\"2019-01-01\", end=\"2021-12-31\")[['Adj Close']]\n",
        "test = pdr.get_data_yahoo(stocks_q2, start=\"2022-01-01\", end=\"2022-12-31\")[['Adj Close']]\n",
        "log_return = training[['Adj Close']].apply(np.log).apply(np.diff).xs('Adj Close',axis=1) \n",
        "log_return_array = np.array( log_return )\n",
        "print( log_return )\n",
        "N = len( stocks_q2 )\n",
        "cov_vec = []\n",
        "\n",
        "for i in range(0,3):\n",
        "  for j in range(0,3):\n",
        "    cov_vec.append( np.cov( log_return_array[i], log_return_array[j] )[0,1] )\n",
        "cov_vec = np.array( cov_vec )\n",
        "\n",
        "cov_sigma = cov_vec.reshape((3, 3))\n",
        "print( \"Covariance Matrix Sigma: \",cov_sigma )\n",
        "beta = 0.0005\n",
        "mean_training = np.array(log_return.mean())\n",
        "print( \"Mean mu: \",mean_training )\n",
        "\n",
        "Diag = np.eye(3)\n",
        "for i in range(0,3):\n",
        "  Diag[i,i] = cov_sigma[i,i]\n",
        "w = cp.Variable( 3 )\n",
        "\n",
        "rou1 = cp.Parameter(nonneg=True)\n",
        "rou2 = cp.Parameter(nonneg=True)\n",
        "\n",
        "Sigma_h = rou1*cov_sigma + (1-rou1)*Diag\n",
        "mean_h = mean_training*rou2 + (1-rou2)*mean_training/N\n",
        "\n",
        "E_return = w[0]*mean_h[0]+w[1]*mean_h[1]+w[2]*mean_h[2]\n",
        "constraints = [E_return >= beta, w >= 0, cp.sum(w) == 1]\n",
        "var = w @ Sigma_h @ w\n",
        "objective = cp.Minimize( var )\n",
        "prob = cp.Problem(objective,constraints)\n",
        "\n"
      ],
      "metadata": {
        "id": "apDZBwG_sMA7",
        "colab": {
          "base_uri": "https://localhost:8080/"
        },
        "outputId": "4b8de60d-0699-4982-b263-2f7bf5ed6e22"
      },
      "execution_count": null,
      "outputs": [
        {
          "output_type": "stream",
          "name": "stdout",
          "text": [
            "This is Q2, (a)\n",
            "[*********************100%***********************]  3 of 3 completed\n",
            "[*********************100%***********************]  3 of 3 completed\n",
            "         AAPL     GOOGL      MSFT\n",
            "0   -0.104924 -0.028086 -0.037482\n",
            "1    0.041803  0.050021  0.045460\n",
            "2   -0.002228 -0.001996  0.001275\n",
            "3    0.018884  0.008745  0.007224\n",
            "4    0.016839 -0.003433  0.014198\n",
            "..        ...       ...       ...\n",
            "750  0.003637  0.003419  0.004462\n",
            "751  0.022715  0.006716  0.022921\n",
            "752 -0.005784 -0.008279 -0.003510\n",
            "753  0.000502 -0.000218  0.002049\n",
            "754 -0.006600 -0.003104 -0.007721\n",
            "\n",
            "[755 rows x 3 columns]\n",
            "Covariance Matrix Sigma:  [[ 1.75680117e-03  1.53500419e-04  3.72140969e-05]\n",
            " [ 1.53500419e-04  1.69541012e-05 -3.43522345e-08]\n",
            " [ 3.72140969e-05 -3.43522345e-08  3.83667014e-06]]\n",
            "Mean mu:  [0.00203546 0.00135062 0.00164795]\n"
          ]
        }
      ]
    },
    {
      "cell_type": "code",
      "source": [
        "print( \"This is Q2, (b)\" )\n",
        "import seaborn as sns\n",
        "pair = [0,0.2,0.4,0.6,0.8,1]\n",
        "ratio = []\n",
        "\n",
        "for i in pair:\n",
        "  for j in pair:\n",
        "    rou1.value = i\n",
        "    rou2.value = j\n",
        "    Sigma_h = rou1*cov_sigma + (1-rou1)*Diag\n",
        "    mean_h = mean_training*rou2 + (1-rou2)*mean_training/N\n",
        "    E_return = w[0]*mean_h[0]+w[1]*mean_h[1]+w[2]*mean_h[2]\n",
        "    constraints = [E_return >= beta, w >= 0, cp.sum(w) == 1]\n",
        "    var = cp.quad_form(w, Sigma_h.value)\n",
        "    objective = cp.Minimize( var )\n",
        "    prob = cp.Problem(objective,constraints)\n",
        "    result = prob.solve()\n",
        "    std = math.sqrt( var.value )\n",
        "    sharpe_ratio = E_return/std\n",
        "    ratio.append( sharpe_ratio.value )\n",
        "ratio = np.array(ratio)\n",
        "ratio = ratio.reshape( (6,6) )\n",
        "Psi = pd.DataFrame(ratio, index = pair, columns = pair)\n",
        "print( Psi )\n",
        "ax = sns.heatmap(\n",
        "    Psi, \n",
        "    cmap='coolwarm',\n",
        "    square=True\n",
        ")\n",
        "plt.show()"
      ],
      "metadata": {
        "id": "mRFcq9vFsQ4u",
        "colab": {
          "base_uri": "https://localhost:8080/",
          "height": 411
        },
        "outputId": "d8ff9e16-26d3-4508-88a0-79271824c5b0"
      },
      "execution_count": null,
      "outputs": [
        {
          "output_type": "stream",
          "name": "stdout",
          "text": [
            "This is Q2, (b)\n",
            "          0.0       0.2       0.4       0.6       0.8       1.0\n",
            "0.0  0.300633  0.420887  0.541140  0.661393  0.781647  0.901900\n",
            "0.2  0.273162  0.382427  0.491692  0.600956  0.710221  0.819486\n",
            "0.4  0.305468  0.427655  0.549842  0.672029  0.794216  0.916403\n",
            "0.6  0.365480  0.511672  0.657864  0.804057  0.950249  1.096441\n",
            "0.8  0.495354  0.693496  0.891638  1.089779  1.287921  1.486063\n",
            "1.0  0.481504  1.825482  1.479468  1.826105  2.174379  2.539295\n"
          ]
        },
        {
          "output_type": "display_data",
          "data": {
            "text/plain": [
              "<Figure size 432x288 with 2 Axes>"
            ],
            "image/png": "[encoded data removed]"
          },
          "metadata": {
            "needs_background": "light"
          }
        }
      ]
    },
    {
      "cell_type": "code",
      "source": [
        "print( \"This is Q2 (c)\" )\n",
        "log_test = test[['Adj Close']].apply(np.log).apply(np.diff).xs('Adj Close',axis=1) \n",
        "log_test_array = np.array( log_test )\n",
        "\n",
        "cov_vec = []\n",
        "\n",
        "for i in range(0,3):\n",
        "  for j in range(0,3):\n",
        "    cov_vec.append( np.cov( log_test_array[i], log_test_array[j] )[0,1] )\n",
        "cov_vec = np.array( cov_vec )\n",
        "\n",
        "cov_sigma = cov_vec.reshape((3, 3))\n",
        "print( \"Covariance Matrix Sigma: \",cov_sigma )\n",
        "\n",
        "mean_test = np.array(log_test.mean())\n",
        "print( \"Mean mu: \",mean_test )\n",
        "\n",
        "beta = 0.0005\n",
        "w_test = cp.Variable( 3 )\n",
        "E_return = w_test[0]*mean_test[0]+w_test[1]*mean_test[1]+w_test[2]*mean_test[2]\n",
        "constraints = [E_return >= beta, w_test >= 0, cp.sum(w_test) == 1]\n",
        "var = cp.quad_form(w_test, cov_sigma)\n",
        "objective = cp.Minimize( var )\n",
        "prob = cp.Problem(objective,constraints)\n",
        "result = prob.solve()\n",
        "print( w_test.value )"
      ],
      "metadata": {
        "colab": {
          "base_uri": "https://localhost:8080/"
        },
        "id": "2_ykAG-tqm_c",
        "outputId": "6dc1370e-f7e5-4926-c013-4ad3fe0ffa4d"
      },
      "execution_count": null,
      "outputs": [
        {
          "output_type": "stream",
          "name": "stdout",
          "text": [
            "This is Q2 (c)\n",
            "Covariance Matrix Sigma:  [[ 4.50305064e-05 -3.69612612e-05  3.43793978e-05]\n",
            " [-3.69612612e-05  1.01607954e-04 -8.36059751e-05]\n",
            " [ 3.43793978e-05 -8.36059751e-05  6.92915635e-05]]\n",
            "Mean mu:  [-0.00132512 -0.00198691 -0.00129668]\n",
            "None\n"
          ]
        }
      ]
    },
    {
      "cell_type": "code",
      "source": [],
      "metadata": {
        "id": "K4DgsLIcqoft"
      },
      "execution_count": null,
      "outputs": []
    }
  ]
}